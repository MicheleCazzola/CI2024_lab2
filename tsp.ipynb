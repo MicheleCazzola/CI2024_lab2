{
 "cells": [
  {
   "cell_type": "markdown",
   "metadata": {},
   "source": [
    "# Lab 2 - Travelling Salesman Problem (TSP)"
   ]
  },
  {
   "cell_type": "markdown",
   "metadata": {},
   "source": [
    "## Imports"
   ]
  },
  {
   "cell_type": "code",
   "execution_count": 1782,
   "metadata": {},
   "outputs": [],
   "source": [
    "import functools\n",
    "import pandas as pd\n",
    "import numpy as np\n",
    "import geopy.distance\n",
    "import matplotlib.pyplot as plt\n",
    "from tqdm.auto import tqdm\n",
    "from dataclasses import dataclass\n"
   ]
  },
  {
   "cell_type": "markdown",
   "metadata": {},
   "source": [
    "## General constants"
   ]
  },
  {
   "cell_type": "code",
   "execution_count": 1783,
   "metadata": {},
   "outputs": [],
   "source": [
    "PATH = \"cities/\"\n",
    "INSTANCES = [\n",
    "    \"vanuatu.csv\",\n",
    "    \"italy.csv\",\n",
    "    \"russia.csv\",\n",
    "    \"us.csv\",\n",
    "    \"china.csv\"\n",
    "]\n",
    "BEST_RESULTS = [\n",
    "    -1_345.54,\n",
    "    -4_172.76,\n",
    "    -32_722.5,\n",
    "    -39_016.62,\n",
    "    None\n",
    "] "
   ]
  },
  {
   "cell_type": "markdown",
   "metadata": {},
   "source": [
    "## Classes"
   ]
  },
  {
   "cell_type": "code",
   "execution_count": 1784,
   "metadata": {},
   "outputs": [],
   "source": [
    "class City:\n",
    "    \n",
    "    @staticmethod\n",
    "    def distance(start, end):\n",
    "        return geopy.distance.geodesic(\n",
    "            (start.lat, start.lon), (end.lat, end.lon)\n",
    "        ).km\n",
    "    \n",
    "    def __init__(self, name, lat, lon):\n",
    "        self.name: str = name\n",
    "        self.lat: float | np.float64 = lat\n",
    "        self.lon: float | np.float64 = lon\n",
    "        \n",
    "    def __repr__(self):\n",
    "        return f\"{self.name}\"\n",
    "    \n",
    "    def __str__(self):\n",
    "        return f\"{self.name} ({self.lat}°, {self.lon}°)\""
   ]
  },
  {
   "cell_type": "code",
   "execution_count": 1785,
   "metadata": {},
   "outputs": [],
   "source": [
    "@dataclass\n",
    "class Individual:\n",
    "    genome: np.ndarray\n",
    "    fitness: np.float64 | float = None"
   ]
  },
  {
   "cell_type": "markdown",
   "metadata": {},
   "source": [
    "## Helper functions"
   ]
  },
  {
   "cell_type": "code",
   "execution_count": 1786,
   "metadata": {},
   "outputs": [],
   "source": [
    "def distance_matrix(coordinates: list) -> np.ndarray:\n",
    "    num_cities = len(coordinates)\n",
    "    dist_matrix = np.zeros((num_cities, num_cities))\n",
    "    \n",
    "    for i in range(num_cities):\n",
    "        for j in range(i+1):\n",
    "            dist_matrix[i, j] = dist_matrix[j, i] = City.distance(coordinates[i], coordinates[j]) if i != j else 0\n",
    "          \n",
    "    return dist_matrix\n",
    "\n",
    "def counter(fn):\n",
    "    \"\"\"Simple decorator for counting number of calls\"\"\"\n",
    "\n",
    "    @functools.wraps(fn)\n",
    "    def helper(*args, **kargs):\n",
    "        helper.calls += 1\n",
    "        return fn(*args, **kargs)\n",
    "\n",
    "    helper.calls = 0\n",
    "    return helper\n",
    "\n",
    "@counter\n",
    "def cost(solution: np.ndarray, dist_matrix: np.ndarray) -> np.float64 | float:\n",
    "    #print(solution, dist_matrix)\n",
    "    \"\"\"Cost of a cycle\"\"\"\n",
    "    return np.sum(\n",
    "        np.array([\n",
    "            dist_matrix[start, end] for (start, end) in zip(solution[:-1], solution[1:])\n",
    "        ])\n",
    "    )\n",
    "    \n",
    "    \n",
    "def fitness(individual, dist_matrix):\n",
    "    solution = np.array(individual.genome.tolist() + [individual.genome[0]])\n",
    "    return -cost(solution, dist_matrix)\n",
    "\n",
    "\n",
    "def parent_selection(population):\n",
    "    BUCKET_SIZE = 10\n",
    "    candidates = sorted(np.random.choice(population, BUCKET_SIZE), key=lambda e: e.fitness, reverse=True)\n",
    "    return candidates[0]\n",
    "\n",
    "\n",
    "def cycle_xover(p1: Individual, p2: Individual):\n",
    "    \n",
    "    #print(p1, p2)\n",
    "    \n",
    "    a, b = np.random.randint(0, p1.genome.size-1), np.random.randint(0, p1.genome.size-1)\n",
    "    l1, l2 = min(a, b), max(a, b)\n",
    "    segment = p1.genome[l1:l2+1]\n",
    "    \n",
    "    genome = p1.genome.copy()\n",
    "    genome[l1:l2+1] = p1.genome[l1:l2+1]\n",
    "    others = p2.genome[~np.isin(p2.genome, segment)]\n",
    "    \n",
    "    \n",
    "    # print(p1.genome, p2.genome)\n",
    "    # print(l1, l2, genome, genome[l2+1:], others, others[l1:])\n",
    "    \n",
    "    assert (len(others) - l1) == (len(genome) - (l2+1))\n",
    "    \n",
    "    genome[:l1] = others[:l1]\n",
    "    genome[l2+1:] = others[l1:]\n",
    "    \n",
    "    return Individual(genome)\n",
    "\n",
    "\n",
    "def inver_over_xover(p1: Individual, p2: Individual):\n",
    "    \"\"\"INVER-OVER crossover\"\"\"\n",
    "    genome1 = p1.genome.copy()\n",
    "    genome = np.zeros(genome1.shape, dtype=np.int16)\n",
    "    num_cities = p1.genome.size\n",
    "    \n",
    "    p1_start = np.random.randint(len(p1.genome))\n",
    "    genome1 = np.roll(genome1, -p1_start)\n",
    "    \n",
    "    p2_start = p2.genome.tolist().index(genome1[0])\n",
    "    p1_end = genome1.tolist().index(p2.genome[(p2_start+1) % num_cities])\n",
    "    \n",
    "    genome[0] = genome1[0]\n",
    "    genome[1] = genome1[p1_end]\n",
    "    \n",
    "    genome[2:p1_end+1] = genome1[1:p1_end][::-1]\n",
    "    genome[p1_end+1:] = genome1[p1_end+1:]\n",
    "    genome = np.roll(genome, p1_start)\n",
    "    \n",
    "    return Individual(genome)\n",
    "\n",
    "xover = inver_over_xover\n",
    "\n",
    "def mutation(p: Individual):\n",
    "    SIGMA = 0.5\n",
    "    genome = p.genome.copy()\n",
    "    mask = np.random.random(len(genome)) < SIGMA\n",
    "    genome[mask] = np.random.permutation(genome[mask])\n",
    "    return Individual(genome)"
   ]
  },
  {
   "cell_type": "markdown",
   "metadata": {},
   "source": [
    "## Greedy"
   ]
  },
  {
   "cell_type": "code",
   "execution_count": 1787,
   "metadata": {},
   "outputs": [],
   "source": [
    "def greedy_solve(coordinates, dist_matrix, start_index=None):\n",
    "    \"\"\"Greedy algorithm with random initialization: sub-optimal\"\"\"\n",
    "    temp = dist_matrix.copy()\n",
    "    \n",
    "    num_cities = len(coordinates)\n",
    "    visited = np.full(num_cities, False)\n",
    "    \n",
    "    rnd = True\n",
    "    if start_index is None:\n",
    "        rnd = False\n",
    "        start_index = np.random.randint(num_cities)\n",
    "    \n",
    "    solution = -np.ones(num_cities+1, dtype=np.int16)\n",
    "    solution[0], visited[0] = start_index, True\n",
    "    for step in range(num_cities-1):\n",
    "        temp[:, start_index] = np.inf\n",
    "        p = np.random.rand()\n",
    "        if rnd and p < 0.01 and step < num_cities - 3:\n",
    "            next_index = np.argsort(temp[start_index])[2]\n",
    "        elif rnd and p < 0.1 and step < num_cities - 2:\n",
    "            next_index = np.argsort(temp[start_index])[1]\n",
    "        else:\n",
    "            next_index = np.argmin(temp[start_index])\n",
    "            \n",
    "        solution[step+1] = next_index\n",
    "        start_index = next_index\n",
    "        visited[start_index] = True\n",
    "        \n",
    "    solution[-1] = solution[0]\n",
    "    \n",
    "    return solution, -cost(solution, dist_matrix)"
   ]
  },
  {
   "cell_type": "code",
   "execution_count": 1788,
   "metadata": {},
   "outputs": [],
   "source": [
    "def greedy_init(coordinates, dist_matrix):\n",
    "    best_fitness, best_sol = -np.inf, None\n",
    "    solutions =  []\n",
    "    for start in tqdm(range(coordinates.size)):\n",
    "        sol, fitness_sol = greedy_solve(coordinates, dist_matrix, start_index=start)\n",
    "        solutions.append(sol[:-1])\n",
    "        if fitness_sol > best_fitness:\n",
    "            best_fitness = fitness_sol\n",
    "            best_sol = sol\n",
    "            \n",
    "    return solutions, best_fitness, best_sol"
   ]
  },
  {
   "cell_type": "markdown",
   "metadata": {},
   "source": [
    "## Evolutionary"
   ]
  },
  {
   "cell_type": "code",
   "execution_count": 1789,
   "metadata": {},
   "outputs": [],
   "source": [
    "def single_mutation(p: Individual):\n",
    "    from_pos = np.random.randint(p.genome.size)\n",
    "    to_pos = np.random.randint(p.genome.size)\n",
    "    genome = p.genome.copy()\n",
    "    genome[to_pos], genome[from_pos] = p.genome[from_pos], p.genome[to_pos]\n",
    "    return Individual(genome)"
   ]
  },
  {
   "cell_type": "code",
   "execution_count": 1790,
   "metadata": {},
   "outputs": [],
   "source": [
    "def evolutionary_solve(coordinates, dist_matrix: np.ndarray, start_population, pop_size, max_generations):\n",
    "    start_pop_len = len(start_population)\n",
    "    num_cities = len(coordinates)\n",
    "    #population = [Individual(np.random.permutation(num_cities)) for _ in range(pop_size)]\n",
    "    #population = [Individual(start_individual) for start_individual in start_population]\n",
    "    population = start_population\n",
    "    for i in population:\n",
    "        i.fitness = fitness(i, dist_matrix)\n",
    "        #print(i)\n",
    "        \n",
    "    for i in population:\n",
    "        assert set(sorted(i.genome)) == set(i.genome.tolist()) \n",
    "    \n",
    "    assert len(population) == start_pop_len and start_pop_len >= 0\n",
    "        \n",
    "    # Discard some individuals if too many wrt start ones\n",
    "    if start_pop_len > pop_size:\n",
    "        population.sort(key=lambda i: i.fitness, reverse=True)\n",
    "        population = np.random.choice(population, size=pop_size, replace=False).tolist()\n",
    "        #population = population[mask]\n",
    "        np.random.shuffle(population)\n",
    "        \n",
    "        print(\"discard\")\n",
    "        \n",
    "    # Extend population if needed more individuals than start population\n",
    "    elif start_pop_len < pop_size:\n",
    "        population.extend(Individual(np.random.permutation(num_cities)) for _ in range(pop_size - start_pop_len))\n",
    "        \n",
    "        # Compute fitness for new individuals\n",
    "        for i in population[start_pop_len:]:\n",
    "            i.fitness = fitness(i, dist_matrix)\n",
    "    \n",
    "    OFFSPRING_SIZE = int(2*pop_size / 3)\n",
    "    \n",
    "    for i in population:\n",
    "        assert set(sorted(i.genome)) == set(i.genome.tolist()) \n",
    "    \n",
    "    champions = [max(population, key=lambda i: i.fitness).fitness]\n",
    "    print(champions[0])\n",
    "    for gen in tqdm(range(max_generations)):\n",
    "        offspring = []\n",
    "        for _ in range(OFFSPRING_SIZE):\n",
    "            if np.random.random() < 0.5:\n",
    "                p = parent_selection(population)\n",
    "                o = mutation(p)\n",
    "            else:\n",
    "                p1 = parent_selection(population)\n",
    "                p2 = parent_selection(population)\n",
    "                o = xover(p1, p2)\n",
    "            \n",
    "            offspring.append(o)\n",
    "        \n",
    "        for i in offspring:\n",
    "            i.fitness = fitness(i, dist_matrix)\n",
    "            \n",
    "        population.extend(offspring)\n",
    "        \n",
    "        # Elitism + generational model\n",
    "        # population.sort(key=lambda i: i.fitness, reverse=True)\n",
    "        # population = population[:RETAIN_SIZE_ELITIST]\n",
    "        \n",
    "        # Survivor selection\n",
    "        population.sort(key=lambda i: i.fitness, reverse=True)\n",
    "        population = population[:pop_size]\n",
    "        \n",
    "        champions.append(population[0].fitness)\n",
    "    \n",
    "    return population[0].genome, population[0].fitness, champions"
   ]
  },
  {
   "cell_type": "markdown",
   "metadata": {},
   "source": [
    "## Solver"
   ]
  },
  {
   "cell_type": "code",
   "execution_count": 1791,
   "metadata": {},
   "outputs": [],
   "source": [
    "MAX_GENERATIONS = [100, 500, 1000, 1000, 1000]\n",
    "POPULATION_SIZES = [100, 100, 100, 100, 100]"
   ]
  },
  {
   "cell_type": "code",
   "execution_count": 1792,
   "metadata": {},
   "outputs": [],
   "source": [
    "def solve(PATH, INSTANCES):\n",
    "    for (INSTANCE, BEST_RESULT, MAX_GEN, POP_SIZE) in zip(INSTANCES, BEST_RESULTS, MAX_GENERATIONS, POPULATION_SIZES):\n",
    "        \n",
    "        print(f\"Instance {INSTANCE}\")\n",
    "        cities = pd.read_csv(f\"{PATH}{INSTANCE}\", header=None, names=[\"name\", \"lat\", \"lon\"])\n",
    "        coordinates = np.array([City(city.name, city.lat, city.lon) for city in cities.itertuples()])\n",
    "        dist_matrix = distance_matrix(coordinates)\n",
    "        _, fitness_greedy = greedy_solve(coordinates, dist_matrix)\n",
    "        #greedy_solutions, _, _ = greedy_init(coordinates, dist_matrix)\n",
    "        calls_greedy = 1\n",
    "        greedy_solutions = []\n",
    "        _, fitness_ea, champions = evolutionary_solve(coordinates, dist_matrix, greedy_solutions, POP_SIZE, MAX_GEN)\n",
    "        best_ea = max(champions)\n",
    "        \n",
    "        plt.figure(figsize=(14,8))\n",
    "        plt.scatter(range(len(champions)), champions, marker=\".\", color=\"blue\")\n",
    "        plt.hlines(fitness_greedy, xmin=0, xmax=len(champions), linestyles=\"-\", color=\"red\")\n",
    "        if BEST_RESULT is not None:\n",
    "            plt.hlines(BEST_RESULT, xmin=0, xmax=len(champions), linestyles=\"-\", color=\"darkgreen\")\n",
    "        plt.show()\n",
    "        \n",
    "        print(f\"Greedy solution: {fitness_greedy:.3f}\\nCost calls: {calls_greedy}\")\n",
    "        print(f\"EA solution: {fitness_ea:.3f}\")\n",
    "        print(f\"Best solution: {best_ea:.3f}\")\n",
    "        print(f\"Number of steps: {champions.index(best_ea)}\")"
   ]
  },
  {
   "cell_type": "code",
   "execution_count": 1793,
   "metadata": {},
   "outputs": [
    {
     "name": "stdout",
     "output_type": "stream",
     "text": [
      "Instance vanuatu.csv\n",
      "-1450.9635936146378\n"
     ]
    },
    {
     "data": {
      "application/vnd.jupyter.widget-view+json": {
       "model_id": "1f167c700a48422c9f2d3d5901e2e809",
       "version_major": 2,
       "version_minor": 0
      },
      "text/plain": [
       "  0%|          | 0/100 [00:00<?, ?it/s]"
      ]
     },
     "metadata": {},
     "output_type": "display_data"
    },
    {
     "data": {
      "image/png": "[encoded data removed]",
      "text/plain": [
       "<Figure size 1400x800 with 1 Axes>"
      ]
     },
     "metadata": {},
     "output_type": "display_data"
    },
    {
     "name": "stdout",
     "output_type": "stream",
     "text": [
      "Greedy solution: -1486.384\n",
      "Cost calls: 1\n",
      "EA solution: -1345.545\n",
      "Best solution: -1345.545\n",
      "Number of steps: 4\n",
      "Instance italy.csv\n",
      "-15587.152121803216\n"
     ]
    },
    {
     "data": {
      "application/vnd.jupyter.widget-view+json": {
       "model_id": "328c2ef27c8f40ccb6b4b8e1d4599a13",
       "version_major": 2,
       "version_minor": 0
      },
      "text/plain": [
       "  0%|          | 0/500 [00:00<?, ?it/s]"
      ]
     },
     "metadata": {},
     "output_type": "display_data"
    },
    {
     "data": {
      "image/png": "[encoded data removed]",
      "text/plain": [
       "<Figure size 1400x800 with 1 Axes>"
      ]
     },
     "metadata": {},
     "output_type": "display_data"
    },
    {
     "name": "stdout",
     "output_type": "stream",
     "text": [
      "Greedy solution: -5046.404\n",
      "Cost calls: 1\n",
      "EA solution: -11161.235\n",
      "Best solution: -11161.235\n",
      "Number of steps: 89\n",
      "Instance russia.csv\n",
      "-313242.8284546449\n"
     ]
    },
    {
     "data": {
      "application/vnd.jupyter.widget-view+json": {
       "model_id": "de947ea9fd17417baf454d0b89c2a593",
       "version_major": 2,
       "version_minor": 0
      },
      "text/plain": [
       "  0%|          | 0/1000 [00:00<?, ?it/s]"
      ]
     },
     "metadata": {},
     "output_type": "display_data"
    },
    {
     "data": {
      "image/png": "[encoded data removed]",
      "text/plain": [
       "<Figure size 1400x800 with 1 Axes>"
      ]
     },
     "metadata": {},
     "output_type": "display_data"
    },
    {
     "name": "stdout",
     "output_type": "stream",
     "text": [
      "Greedy solution: -43649.380\n",
      "Cost calls: 1\n",
      "EA solution: -257104.646\n",
      "Best solution: -257104.646\n",
      "Number of steps: 718\n",
      "Instance us.csv\n",
      "-606139.359994849\n"
     ]
    },
    {
     "data": {
      "application/vnd.jupyter.widget-view+json": {
       "model_id": "d6885a4091bd46a5bf1661908b7122b6",
       "version_major": 2,
       "version_minor": 0
      },
      "text/plain": [
       "  0%|          | 0/1000 [00:00<?, ?it/s]"
      ]
     },
     "metadata": {},
     "output_type": "display_data"
    },
    {
     "data": {
      "image/png": "[encoded data removed]",
      "text/plain": [
       "<Figure size 1400x800 with 1 Axes>"
      ]
     },
     "metadata": {},
     "output_type": "display_data"
    },
    {
     "name": "stdout",
     "output_type": "stream",
     "text": [
      "Greedy solution: -48464.526\n",
      "Cost calls: 1\n",
      "EA solution: -540890.776\n",
      "Best solution: -540890.776\n",
      "Number of steps: 577\n",
      "Instance china.csv\n",
      "-944487.9841276817\n"
     ]
    },
    {
     "data": {
      "application/vnd.jupyter.widget-view+json": {
       "model_id": "d7b088f7e2da4437ae3643eb6fcdec92",
       "version_major": 2,
       "version_minor": 0
      },
      "text/plain": [
       "  0%|          | 0/1000 [00:00<?, ?it/s]"
      ]
     },
     "metadata": {},
     "output_type": "display_data"
    },
    {
     "data": {
      "image/png": "[encoded data removed]",
      "text/plain": [
       "<Figure size 1400x800 with 1 Axes>"
      ]
     },
     "metadata": {},
     "output_type": "display_data"
    },
    {
     "name": "stdout",
     "output_type": "stream",
     "text": [
      "Greedy solution: -64964.484\n",
      "Cost calls: 1\n",
      "EA solution: -899244.689\n",
      "Best solution: -899244.689\n",
      "Number of steps: 309\n"
     ]
    }
   ],
   "source": [
    "solve(PATH, INSTANCES)"
   ]
  }
 ],
 "metadata": {
  "kernelspec": {
   "display_name": "venv",
   "language": "python",
   "name": "python3"
  },
  "language_info": {
   "codemirror_mode": {
    "name": "ipython",
    "version": 3
   },
   "file_extension": ".py",
   "mimetype": "text/x-python",
   "name": "python",
   "nbconvert_exporter": "python",
   "pygments_lexer": "ipython3",
   "version": "3.11.8"
  }
 },
 "nbformat": 4,
 "nbformat_minor": 2
}

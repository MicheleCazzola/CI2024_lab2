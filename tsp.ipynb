{
 "cells": [
  {
   "cell_type": "markdown",
   "metadata": {},
   "source": [
    "# Lab 2 - Travelling Salesman Problem (TSP)"
   ]
  },
  {
   "cell_type": "code",
   "execution_count": 197,
   "metadata": {},
   "outputs": [],
   "source": [
    "import pandas as pd\n",
    "import numpy as np"
   ]
  },
  {
   "cell_type": "code",
   "execution_count": 198,
   "metadata": {},
   "outputs": [],
   "source": [
    "PATH = \"cities/\"\n",
    "INSTANCE = \"vanuatu.csv\""
   ]
  },
  {
   "cell_type": "code",
   "execution_count": 199,
   "metadata": {},
   "outputs": [
    {
     "data": {
      "text/plain": [
       "(         City      x       y\n",
       " 0     Isangel -19.53  169.28\n",
       " 1    Lakatoro -16.09  167.40\n",
       " 2     Longana -15.30  168.00\n",
       " 3  Luganville -15.51  167.15\n",
       " 4      Norsup -16.07  167.39\n",
       " 5   Port Olry -15.05  167.05\n",
       " 6        Sola -13.87  167.55\n",
       " 7        Vila -17.74  168.31,\n",
       " pandas.core.frame.DataFrame)"
      ]
     },
     "execution_count": 199,
     "metadata": {},
     "output_type": "execute_result"
    }
   ],
   "source": [
    "cities = pd.read_csv(f\"{PATH}{INSTANCE}\", header=None, names=[\"City\", \"x\", \"y\"])\n",
    "cities, type(cities)"
   ]
  },
  {
   "cell_type": "code",
   "execution_count": 200,
   "metadata": {},
   "outputs": [
    {
     "data": {
      "text/plain": [
       "array([[-19.53, 169.28],\n",
       "       [-16.09, 167.4 ],\n",
       "       [-15.3 , 168.  ],\n",
       "       [-15.51, 167.15],\n",
       "       [-16.07, 167.39],\n",
       "       [-15.05, 167.05],\n",
       "       [-13.87, 167.55],\n",
       "       [-17.74, 168.31]])"
      ]
     },
     "execution_count": 200,
     "metadata": {},
     "output_type": "execute_result"
    }
   ],
   "source": [
    "coordinates = cities[[\"x\", \"y\"]].to_numpy()\n",
    "coordinates"
   ]
  },
  {
   "cell_type": "markdown",
   "metadata": {},
   "source": [
    "## Helper functions"
   ]
  },
  {
   "cell_type": "code",
   "execution_count": 201,
   "metadata": {},
   "outputs": [],
   "source": [
    "def distance(start, end):\n",
    "    return ((start[0] - end[0]) ** 2 + (start[1] - end[1]) ** 2) ** 0.5\n",
    "\n",
    "\n",
    "def distance_matrix(coordinates: np.ndarray) -> np.ndarray:\n",
    "    num_cities = coordinates.shape[0]\n",
    "    dist_matrix = np.zeros((num_cities, num_cities))\n",
    "    for i in range(num_cities):\n",
    "        for j in range(i+1):\n",
    "            d = distance(coordinates[i], coordinates[j])\n",
    "            dist_matrix[i, j] = d\n",
    "            dist_matrix[j, i] = d\n",
    "            if i == j:\n",
    "                dist_matrix[i, j] = 0\n",
    "            \n",
    "    return dist_matrix\n",
    "\n",
    "\n",
    "def cost(solution: np.ndarray, dist_matrix: np.ndarray) -> np.float64 | float:\n",
    "    \"\"\"Cost of a cycle\"\"\"\n",
    "    return np.sum(\n",
    "        np.array([\n",
    "            dist_matrix[solution[i]][solution[i+1]] for i in range(len(solution)-1)\n",
    "        ]\n",
    "    )) + dist_matrix[solution[-1]][solution[0]]"
   ]
  },
  {
   "cell_type": "markdown",
   "metadata": {},
   "source": [
    "## Greedy"
   ]
  },
  {
   "cell_type": "code",
   "execution_count": 202,
   "metadata": {},
   "outputs": [],
   "source": [
    "def greedy_solve(coordinates: np.ndarray):\n",
    "    \"\"\"Greedy algorithm with random initialization: sub-optimal\"\"\"\n",
    "    dist_matrix = distance_matrix(coordinates)\n",
    "    temp = dist_matrix.copy()\n",
    "    \n",
    "    num_cities = coordinates.shape[0]\n",
    "    visited = np.full(num_cities, False)\n",
    "    start_index = np.random.randint(0, num_cities)\n",
    "    \n",
    "    solution = -np.ones(num_cities+1, dtype=np.int16)\n",
    "    solution[0], visited[0] = start_index, True\n",
    "    for step in range(num_cities-1):\n",
    "        temp[:, start_index] = np.inf\n",
    "        next_index = np.argmin(temp[start_index])\n",
    "        \n",
    "        solution[step+1] = next_index\n",
    "        start_index = next_index\n",
    "        visited[start_index] = True\n",
    "        \n",
    "    solution[-1] = solution[0]\n",
    "    \n",
    "    return solution, cost(solution, dist_matrix), dist_matrix"
   ]
  },
  {
   "cell_type": "code",
   "execution_count": 203,
   "metadata": {},
   "outputs": [
    {
     "name": "stdout",
     "output_type": "stream",
     "text": [
      "1 -> 4 0.022360679775006158\n",
      "4 -> 3 0.6092618484691055\n",
      "3 -> 5 0.4707440918375907\n",
      "5 -> 2 0.982344135219414\n",
      "2 -> 6 1.499133082818198\n",
      "6 -> 7 3.9439193703725715\n",
      "7 -> 0 2.035927307150235\n",
      "0 -> 1 3.920204076320516\n",
      "(array([1, 4, 3, 5, 2, 6, 7, 0, 1], dtype=int16), np.float64(13.483894591962638))\n",
      "[[0.         3.92020408 4.41942304 4.54942854 3.94254994 5.00432813\n",
      "  5.91848798 2.03592731]\n",
      " [3.92020408 0.         0.99201814 0.63158531 0.02236068 1.0973149\n",
      "  2.2250618  1.88430358]\n",
      " [4.41942304 0.99201814 0.         0.87555697 0.98234414 0.98234414\n",
      "  1.49913308 2.45961379]\n",
      " [4.54942854 0.63158531 0.87555697 0.         0.60926185 0.47074409\n",
      "  1.68807583 2.51366267]\n",
      " [3.94254994 0.02236068 0.98234414 0.60926185 0.         1.0751744\n",
      "  2.20581051 1.90664627]\n",
      " [5.00432813 1.0973149  0.98234414 0.47074409 1.0751744  0.\n",
      "  1.28156155 2.97047134]\n",
      " [5.91848798 2.2250618  1.49913308 1.68807583 2.20581051 1.28156155\n",
      "  0.         3.94391937]\n",
      " [2.03592731 1.88430358 2.45961379 2.51366267 1.90664627 2.97047134\n",
      "  3.94391937 0.        ]]\n"
     ]
    }
   ],
   "source": [
    "solution, cost_sol, matrix = greedy_solve(coordinates)\n",
    "for (start, end) in zip(solution[:-1], solution[1:]):\n",
    "    print(f\"{start} -> {end}\", matrix[start, end])\n",
    "    \n",
    "print((solution, cost_sol))\n",
    "print(matrix)"
   ]
  }
 ],
 "metadata": {
  "kernelspec": {
   "display_name": "venv",
   "language": "python",
   "name": "python3"
  },
  "language_info": {
   "codemirror_mode": {
    "name": "ipython",
    "version": 3
   },
   "file_extension": ".py",
   "mimetype": "text/x-python",
   "name": "python",
   "nbconvert_exporter": "python",
   "pygments_lexer": "ipython3",
   "version": "3.11.8"
  }
 },
 "nbformat": 4,
 "nbformat_minor": 2
}
